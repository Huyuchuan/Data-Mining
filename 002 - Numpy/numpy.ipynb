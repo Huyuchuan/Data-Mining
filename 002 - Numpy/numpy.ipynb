{
 "cells": [
  {
   "cell_type": "markdown",
   "metadata": {},
   "source": [
    "# Numpy"
   ]
  },
  {
   "cell_type": "markdown",
   "metadata": {},
   "source": [
    "## 生成数组"
   ]
  },
  {
   "cell_type": "markdown",
   "metadata": {},
   "source": [
    "### 生成0和1的数组\n",
    "\n",
    "\n",
    "| 方法                                       | 描述                                                         |\n",
    "| ------------------------------------------ | ------------------------------------------------------------ |\n",
    "| **`np.ones(shape=形状, dtype=数据类型)`**  | `shape` 可以以列表或者元组的形式传入；`dtype` 可以指定数据类型 |\n",
    "| `np.ones_like(a=数组, dtype=数据类型)`     | `a` 可以是 ndarray，生成和 `a` **形状一样的新** `ndarray`    |\n",
    "| **`np.zeros(shape=形状, dtype=数据类型)`** |                                                              |\n",
    "| `np.zeros_like(a=数组, dtype=数据类型)`    |                                                              |\n",
    "\n",
    "\n"
   ]
  },
  {
   "cell_type": "code",
   "execution_count": 4,
   "metadata": {},
   "outputs": [
    {
     "data": {
      "text/plain": [
       "array([[0., 0., 0., 0., 0.]])"
      ]
     },
     "execution_count": 4,
     "metadata": {},
     "output_type": "execute_result"
    }
   ],
   "source": [
    "import numpy as np\n",
    "\n",
    "# 【重点】在生成是，参数中的 shape 可以是元组、也可以是列表！\n",
    "np.ones(shape=(3, 4), dtype=np.int32)\n",
    "\n",
    "np.zeros(shape=[1, 5])"
   ]
  },
  {
   "cell_type": "markdown",
   "metadata": {},
   "source": [
    "---\n",
    "\n",
    "### 从现有数组中生成\n",
    "\n",
    "\n",
    "\n",
    "> **这里深拷贝和浅拷贝只有在传入的数组是 np.ndarray ，并且数据类型一致时才有效**。如果传入的是 Python 自带的 list[] 类型，则两者都是深拷贝！\n",
    "\n",
    "| 方法                                          | 描述                                           |\n",
    "| --------------------------------------------- | ---------------------------------------------- |\n",
    "| `np.array(object=现有数组, dtype=数据类型)`   | **【深拷贝】**返回跟参数中的数组一样的 ndarray |\n",
    "| `np.asarray(object=现有数组, dtype=数据类型)` | **【浅拷贝】**返回跟参数中的数组一样的 ndarray |\n",
    "\n"
   ]
  },
  {
   "cell_type": "code",
   "execution_count": 39,
   "metadata": {},
   "outputs": [
    {
     "name": "stdout",
     "output_type": "stream",
     "text": [
      "修改器后的深拷贝 array1：\n",
      " [[0.000e+00 1.230e+02 0.000e+00 0.000e+00 0.000e+00 0.000e+00 0.000e+00\n",
      "  0.000e+00]\n",
      " [0.000e+00 0.000e+00 2.342e+03 0.000e+00 0.000e+00 0.000e+00 2.000e+00\n",
      "  0.000e+00]\n",
      " [0.000e+00 0.000e+00 0.000e+00 0.000e+00 0.000e+00 4.500e+01 0.000e+00\n",
      "  0.000e+00]\n",
      " [0.000e+00 0.000e+00 0.000e+00 0.000e+00 0.000e+00 0.000e+00 0.000e+00\n",
      "  0.000e+00]]\n",
      "修改器后的浅拷贝 array 2：\n",
      " [[0.000e+00 1.230e+02 0.000e+00 0.000e+00 0.000e+00 0.000e+00 0.000e+00\n",
      "  0.000e+00]\n",
      " [0.000e+00 0.000e+00 2.342e+03 0.000e+00 0.000e+00 0.000e+00 2.000e+00\n",
      "  0.000e+00]\n",
      " [0.000e+00 0.000e+00 0.000e+00 0.000e+00 0.000e+00 4.500e+01 0.000e+00\n",
      "  0.000e+00]\n",
      " [0.000e+00 0.000e+00 0.000e+00 0.000e+00 0.000e+00 0.000e+00 0.000e+00\n",
      "  0.000e+00]]\n"
     ]
    }
   ],
   "source": [
    "import numpy as np\n",
    "\n",
    "# 【重点】**这里深拷贝和浅拷贝只有在传入的数组是 np.ndarray ，并且数据类型一致时才有效**。如果传入的是 Python 自带的 list[] 类型，则两者都是深拷贝！\n",
    "# source_array = np.array([[0., 123., 0., 0., 0., 0., 0., 0.], [0., 0., 2342., 0., 0., 0., 2., 0.], [0., 0., 0., 0., 0., 45., 0., 0.], [0., 0., 0., 0., 0., 0., 0., 0.]])\n",
    "source_array = [[0., 123., 0., 0., 0., 0., 0., 0.], [0., 0., 2342., 0., 0., 0., 2., 0.], [0., 0., 0., 0., 0., 45., 0., 0.], [0., 0., 0., 0., 0., 0., 0., 0.]]\n",
    "\n",
    "# np.array() 是深拷贝\n",
    "array1 = np.array(source_array)\n",
    "\n",
    "# np.array() 是浅拷贝\n",
    "array2 = np.asarray(source_array)\n",
    "\n",
    "\n",
    "source_array[1][0] = 999\n",
    "print('修改器后的深拷贝 array1：\\n', array1)\n",
    "\n",
    "print('修改器后的浅拷贝 array 2：\\n', array2)"
   ]
  },
  {
   "cell_type": "markdown",
   "metadata": {},
   "source": [
    "---\n",
    "\n",
    "### 生成固定范围的数组"
   ]
  },
  {
   "cell_type": "code",
   "execution_count": 47,
   "metadata": {},
   "outputs": [
    {
     "data": {
      "text/plain": [
       "array([  1.,  10., 100.])"
      ]
     },
     "execution_count": 47,
     "metadata": {},
     "output_type": "execute_result"
    }
   ],
   "source": [
    "# 生成等间隔的数组\n",
    "np.linspace(start=0, stop=100, num=11)  # 返回: array([ 0., 10., 20., 30., 40., 50., 60., 70., 80., 90., 100.])\n",
    "\n",
    "# 根据指定步长生成数组（左闭右开区间）\n",
    "np.arange(start=10, stop=20, step=2)  # 返回：array([10, 12, 14, 16, 18])\n",
    "\n",
    "# 创建等比数列\n",
    "np.logspace(0, 2, 3)  # 返回：array([  1.,  10., 100.])"
   ]
  },
  {
   "cell_type": "markdown",
   "metadata": {},
   "source": [
    "---\n",
    "\n",
    "### 创建随机数组"
   ]
  },
  {
   "cell_type": "code",
   "execution_count": 51,
   "metadata": {},
   "outputs": [
    {
     "data": {
      "image/png": "[encoded data removed]",
      "text/plain": [
       "<Figure size 1600x640 with 1 Axes>"
      ]
     },
     "metadata": {
      "needs_background": "light"
     },
     "output_type": "display_data"
    }
   ],
   "source": [
    "import numpy as np\n",
    "from matplotlib import pyplot as plt\n",
    "\n",
    "# 创建随机数组\n",
    "array = np.random.uniform(low=-1, high=1, size=100000000)\n",
    "\n",
    "# 创建画布\n",
    "plt.figure(figsize=(20, 8), dpi=80)\n",
    "\n",
    "# 绘制图像\n",
    "plt.hist(array, bins=1000)\n",
    "\n",
    "# 显示图像\n",
    "plt.show()"
   ]
  },
  {
   "cell_type": "markdown",
   "metadata": {},
   "source": [
    "---\n",
    "\n",
    "### 创建并返回指定均值和标准差的正态分布\n"
   ]
  },
  {
   "cell_type": "code",
   "execution_count": 50,
   "metadata": {},
   "outputs": [
    {
     "data": {
      "image/png": "[encoded data removed]",
      "text/plain": [
       "<Figure size 1600x640 with 1 Axes>"
      ]
     },
     "metadata": {
      "needs_background": "light"
     },
     "output_type": "display_data"
    }
   ],
   "source": [
    "import numpy as np\n",
    "from matplotlib import pyplot as plt\n",
    "\n",
    "# 创建正态分布的数组\n",
    "array = np.random.normal(loc=1.75, scale=2, size=100000000)\n",
    "\n",
    "# 创建画布\n",
    "plt.figure(figsize=(20, 8), dpi=80)\n",
    "\n",
    "# 绘制图像\n",
    "plt.hist(array, bins=1000)\n",
    "\n",
    "# 显示图像\n",
    "plt.show()"
   ]
  },
  {
   "cell_type": "markdown",
   "metadata": {},
   "source": [
    "---\n",
    "\n",
    "## ndarray 的属性\n",
    "\n",
    "\n",
    "| 属性名字           | 属性解释                                                     |\n",
    "| ------------------ | ------------------------------------------------------------ |\n",
    "| `ndarray.shape`    | 返回数组维度的**元组**，元组中一个元素代表一个维度，如果只有一个维度则用 `(n, )` 表示 |\n",
    "| `ndarray.ndim`     | 返回数组维数                                                 |\n",
    "| `ndarray.size`     | 返回数组中的元素数量                                         |\n",
    "| `ndarray.itemsize` | 返回数组中一个元素的长度（字节）                             |\n",
    "| `ndarray.dtype`    | 数组元素的类型                                               |\n",
    "\n"
   ]
  },
  {
   "cell_type": "code",
   "execution_count": 37,
   "metadata": {},
   "outputs": [
    {
     "data": {
      "text/plain": [
       "dtype('float32')"
      ]
     },
     "execution_count": 37,
     "metadata": {},
     "output_type": "execute_result"
    }
   ],
   "source": [
    "test_array = np.array([[1, 2, 3],[4, 5, 6]], dtype=np.float32)\n",
    "\n",
    "# 返回数组维度的**元组**，元组中一个元素代表一个维度，如果只有一个维度则用 `(n, )` 表示\n",
    "test_array.shape  # 输出：(2, 3)\n",
    "\n",
    "# 返回数组维数\n",
    "test_array.ndim  # 输出：2\n",
    "\n",
    "# 返回数组中的元素数量\n",
    "test_array.size  # 输出：6\n",
    "\n",
    "# 返回数组中一个元素的长度（字节）\n",
    "test_array.itemsize  # 输出：4\n",
    "\n",
    "# 数组元素的类型\n",
    "test_array.dtype  # 输出：dtype('float32')"
   ]
  },
  {
   "cell_type": "markdown",
   "metadata": {},
   "source": [
    "---\n",
    "\n",
    "## 切片索引与形状修改"
   ]
  },
  {
   "cell_type": "markdown",
   "metadata": {},
   "source": [
    "### 案例：随机生成 8 支股票 2 周的交易日涨幅数据"
   ]
  },
  {
   "cell_type": "code",
   "execution_count": 2,
   "metadata": {},
   "outputs": [],
   "source": [
    "import numpy as np\n",
    "\n",
    "stock_change = np.random.normal(loc=0, scale=1, size=(8, 10))"
   ]
  },
  {
   "cell_type": "code",
   "execution_count": 4,
   "metadata": {},
   "outputs": [
    {
     "data": {
      "text/plain": [
       "array([[ 0.94392597, -0.2579331 ,  1.17741713,  0.91106463, -0.22480532,\n",
       "        -2.17304257,  0.06689428,  0.20691028, -0.03596233, -0.59718032],\n",
       "       [-1.23148979, -0.62469026,  0.58676196, -2.00826884, -0.322707  ,\n",
       "        -1.02992438,  0.30472397, -0.99191278, -0.91962987, -1.77181761],\n",
       "       [-0.59629722, -0.83131122, -0.40306361, -0.06114812,  0.85658245,\n",
       "         0.10974789, -0.72742478, -1.02137043,  1.13683401,  0.22537336],\n",
       "       [-0.01388008, -0.15970143, -1.25188294, -0.02112274, -2.1000329 ,\n",
       "         0.97501046,  0.23612974,  0.49543876, -0.17160467, -1.79236646],\n",
       "       [-0.09484012,  0.25690417, -1.6506377 ,  1.48273461, -1.61905086,\n",
       "         1.09552524,  0.3925144 ,  0.61100501,  1.56002534, -0.99511179],\n",
       "       [-1.12657501,  1.14165503, -0.80840794,  0.56958905, -0.43467417,\n",
       "        -0.27643231,  1.22430361, -0.75679292,  0.99253067, -1.0610937 ],\n",
       "       [-0.6777945 , -0.68460042, -1.68093722,  0.12429378, -1.37440856,\n",
       "        -0.86002876, -0.73507162,  0.0947193 , -1.13311681,  0.44077563],\n",
       "       [ 1.04678474,  0.08966307, -0.61663887, -1.06433395, -1.26309562,\n",
       "         0.72534654,  0.40044122, -0.47258108,  1.04575172,  0.37269356]])"
      ]
     },
     "execution_count": 4,
     "metadata": {},
     "output_type": "execute_result"
    }
   ],
   "source": [
    "stock_change"
   ]
  },
  {
   "cell_type": "code",
   "execution_count": 8,
   "metadata": {},
   "outputs": [
    {
     "data": {
      "text/plain": [
       "array([ 0.94392597, -0.2579331 ,  1.17741713])"
      ]
     },
     "execution_count": 8,
     "metadata": {},
     "output_type": "execute_result"
    }
   ],
   "source": [
    "# 二维数组索引方式：\n",
    "# 举例：获取第一个股票的前3个交易日的涨跌幅数据\n",
    "stock_change[0, 0:3]"
   ]
  },
  {
   "cell_type": "code",
   "execution_count": 14,
   "metadata": {},
   "outputs": [
    {
     "data": {
      "text/plain": [
       "array([[[    1,     2,     3],\n",
       "        [    4,     5,     6]],\n",
       "\n",
       "       [[   12,     3, 99999],\n",
       "        [    5,     6,     7]]])"
      ]
     },
     "execution_count": 14,
     "metadata": {},
     "output_type": "execute_result"
    }
   ],
   "source": [
    "# 三维数组索引方式：\n",
    "# 三维\n",
    "a1 = np.array([ [[1,2,3],[4,5,6]], [[12,3,34],[5,6,7]]])\n",
    "\n",
    "a1.shape  # 输出：(2, 2, 3)\n",
    "\n",
    "# 索引、\n",
    "a1[1, 0, 2]  # 输出：34\n",
    "\n",
    "# 切片\n",
    "# 将 34 修改为 99999\n",
    "a1[1, 0, 2] = 99999\n",
    "\n",
    "a1\n"
   ]
  },
  {
   "cell_type": "markdown",
   "metadata": {},
   "source": [
    "### 3.1 ndarray.reshape(shape, order)\n",
    "\n",
    "返回一个具有相同数据域，但shape不一样的视图\n",
    "\n",
    "行、列不进行互换"
   ]
  },
  {
   "cell_type": "code",
   "execution_count": 24,
   "metadata": {},
   "outputs": [
    {
     "data": {
      "text/plain": [
       "array([[ 0.94392597, -0.2579331 ,  1.17741713,  0.91106463],\n",
       "       [-0.22480532, -2.17304257,  0.06689428,  0.20691028],\n",
       "       [-0.03596233, -0.59718032, -1.23148979, -0.62469026],\n",
       "       [ 0.58676196, -2.00826884, -0.322707  , -1.02992438],\n",
       "       [ 0.30472397, -0.99191278, -0.91962987, -1.77181761],\n",
       "       [-0.59629722, -0.83131122, -0.40306361, -0.06114812],\n",
       "       [ 0.85658245,  0.10974789, -0.72742478, -1.02137043],\n",
       "       [ 1.13683401,  0.22537336, -0.01388008, -0.15970143],\n",
       "       [-1.25188294, -0.02112274, -2.1000329 ,  0.97501046],\n",
       "       [ 0.23612974,  0.49543876, -0.17160467, -1.79236646],\n",
       "       [-0.09484012,  0.25690417, -1.6506377 ,  1.48273461],\n",
       "       [-1.61905086,  1.09552524,  0.3925144 ,  0.61100501],\n",
       "       [ 1.56002534, -0.99511179, -1.12657501,  1.14165503],\n",
       "       [-0.80840794,  0.56958905, -0.43467417, -0.27643231],\n",
       "       [ 1.22430361, -0.75679292,  0.99253067, -1.0610937 ],\n",
       "       [-0.6777945 , -0.68460042, -1.68093722,  0.12429378],\n",
       "       [-1.37440856, -0.86002876, -0.73507162,  0.0947193 ],\n",
       "       [-1.13311681,  0.44077563,  1.04678474,  0.08966307],\n",
       "       [-0.61663887, -1.06433395, -1.26309562,  0.72534654],\n",
       "       [ 0.40044122, -0.47258108,  1.04575172,  0.37269356]])"
      ]
     },
     "execution_count": 24,
     "metadata": {},
     "output_type": "execute_result"
    }
   ],
   "source": [
    "stock_change"
   ]
  },
  {
   "cell_type": "code",
   "execution_count": 25,
   "metadata": {},
   "outputs": [
    {
     "data": {
      "text/plain": [
       "array([[ 0.94392597, -0.2579331 ,  1.17741713,  0.91106463, -0.22480532,\n",
       "        -2.17304257,  0.06689428,  0.20691028],\n",
       "       [-0.03596233, -0.59718032, -1.23148979, -0.62469026,  0.58676196,\n",
       "        -2.00826884, -0.322707  , -1.02992438],\n",
       "       [ 0.30472397, -0.99191278, -0.91962987, -1.77181761, -0.59629722,\n",
       "        -0.83131122, -0.40306361, -0.06114812],\n",
       "       [ 0.85658245,  0.10974789, -0.72742478, -1.02137043,  1.13683401,\n",
       "         0.22537336, -0.01388008, -0.15970143],\n",
       "       [-1.25188294, -0.02112274, -2.1000329 ,  0.97501046,  0.23612974,\n",
       "         0.49543876, -0.17160467, -1.79236646],\n",
       "       [-0.09484012,  0.25690417, -1.6506377 ,  1.48273461, -1.61905086,\n",
       "         1.09552524,  0.3925144 ,  0.61100501],\n",
       "       [ 1.56002534, -0.99511179, -1.12657501,  1.14165503, -0.80840794,\n",
       "         0.56958905, -0.43467417, -0.27643231],\n",
       "       [ 1.22430361, -0.75679292,  0.99253067, -1.0610937 , -0.6777945 ,\n",
       "        -0.68460042, -1.68093722,  0.12429378],\n",
       "       [-1.37440856, -0.86002876, -0.73507162,  0.0947193 , -1.13311681,\n",
       "         0.44077563,  1.04678474,  0.08966307],\n",
       "       [-0.61663887, -1.06433395, -1.26309562,  0.72534654,  0.40044122,\n",
       "        -0.47258108,  1.04575172,  0.37269356]])"
      ]
     },
     "execution_count": 25,
     "metadata": {},
     "output_type": "execute_result"
    }
   ],
   "source": [
    "# 在转换形状的时候，一定要注意数组的元素匹配\n",
    "stock_change.reshape([10, 8])"
   ]
  },
  {
   "cell_type": "code",
   "execution_count": 26,
   "metadata": {},
   "outputs": [
    {
     "data": {
      "text/plain": [
       "array([[ 0.94392597, -0.2579331 ,  1.17741713,  0.91106463, -0.22480532,\n",
       "        -2.17304257,  0.06689428,  0.20691028, -0.03596233, -0.59718032],\n",
       "       [-1.23148979, -0.62469026,  0.58676196, -2.00826884, -0.322707  ,\n",
       "        -1.02992438,  0.30472397, -0.99191278, -0.91962987, -1.77181761],\n",
       "       [-0.59629722, -0.83131122, -0.40306361, -0.06114812,  0.85658245,\n",
       "         0.10974789, -0.72742478, -1.02137043,  1.13683401,  0.22537336],\n",
       "       [-0.01388008, -0.15970143, -1.25188294, -0.02112274, -2.1000329 ,\n",
       "         0.97501046,  0.23612974,  0.49543876, -0.17160467, -1.79236646],\n",
       "       [-0.09484012,  0.25690417, -1.6506377 ,  1.48273461, -1.61905086,\n",
       "         1.09552524,  0.3925144 ,  0.61100501,  1.56002534, -0.99511179],\n",
       "       [-1.12657501,  1.14165503, -0.80840794,  0.56958905, -0.43467417,\n",
       "        -0.27643231,  1.22430361, -0.75679292,  0.99253067, -1.0610937 ],\n",
       "       [-0.6777945 , -0.68460042, -1.68093722,  0.12429378, -1.37440856,\n",
       "        -0.86002876, -0.73507162,  0.0947193 , -1.13311681,  0.44077563],\n",
       "       [ 1.04678474,  0.08966307, -0.61663887, -1.06433395, -1.26309562,\n",
       "         0.72534654,  0.40044122, -0.47258108,  1.04575172,  0.37269356]])"
      ]
     },
     "execution_count": 26,
     "metadata": {},
     "output_type": "execute_result"
    }
   ],
   "source": [
    "stock_change.reshape([-1, 10])  # 数组的形状被修改为: (8, 10), -1: 表示通过待计算"
   ]
  },
  {
   "cell_type": "markdown",
   "metadata": {},
   "source": [
    "### 3.2 ndarray.resize(new_shape)\n",
    "修改数组本身的形状（需要保持元素个数前后相同）\n",
    "\n",
    "行、列不进行互换"
   ]
  },
  {
   "cell_type": "code",
   "execution_count": 27,
   "metadata": {},
   "outputs": [],
   "source": [
    "stock_change.resize([20, 4])"
   ]
  },
  {
   "cell_type": "code",
   "execution_count": 28,
   "metadata": {},
   "outputs": [
    {
     "data": {
      "text/plain": [
       "array([[ 0.94392597, -0.2579331 ,  1.17741713,  0.91106463],\n",
       "       [-0.22480532, -2.17304257,  0.06689428,  0.20691028],\n",
       "       [-0.03596233, -0.59718032, -1.23148979, -0.62469026],\n",
       "       [ 0.58676196, -2.00826884, -0.322707  , -1.02992438],\n",
       "       [ 0.30472397, -0.99191278, -0.91962987, -1.77181761],\n",
       "       [-0.59629722, -0.83131122, -0.40306361, -0.06114812],\n",
       "       [ 0.85658245,  0.10974789, -0.72742478, -1.02137043],\n",
       "       [ 1.13683401,  0.22537336, -0.01388008, -0.15970143],\n",
       "       [-1.25188294, -0.02112274, -2.1000329 ,  0.97501046],\n",
       "       [ 0.23612974,  0.49543876, -0.17160467, -1.79236646],\n",
       "       [-0.09484012,  0.25690417, -1.6506377 ,  1.48273461],\n",
       "       [-1.61905086,  1.09552524,  0.3925144 ,  0.61100501],\n",
       "       [ 1.56002534, -0.99511179, -1.12657501,  1.14165503],\n",
       "       [-0.80840794,  0.56958905, -0.43467417, -0.27643231],\n",
       "       [ 1.22430361, -0.75679292,  0.99253067, -1.0610937 ],\n",
       "       [-0.6777945 , -0.68460042, -1.68093722,  0.12429378],\n",
       "       [-1.37440856, -0.86002876, -0.73507162,  0.0947193 ],\n",
       "       [-1.13311681,  0.44077563,  1.04678474,  0.08966307],\n",
       "       [-0.61663887, -1.06433395, -1.26309562,  0.72534654],\n",
       "       [ 0.40044122, -0.47258108,  1.04575172,  0.37269356]])"
      ]
     },
     "execution_count": 28,
     "metadata": {},
     "output_type": "execute_result"
    }
   ],
   "source": [
    "stock_change"
   ]
  },
  {
   "cell_type": "markdown",
   "metadata": {},
   "source": [
    "### 3.3 ndarray.T\n",
    "数组的转置\n",
    "\n",
    "将数组的行、列进行互换"
   ]
  },
  {
   "cell_type": "code",
   "execution_count": 29,
   "metadata": {},
   "outputs": [
    {
     "data": {
      "text/plain": [
       "array([[ 0.94392597, -0.22480532, -0.03596233,  0.58676196,  0.30472397,\n",
       "        -0.59629722,  0.85658245,  1.13683401, -1.25188294,  0.23612974,\n",
       "        -0.09484012, -1.61905086,  1.56002534, -0.80840794,  1.22430361,\n",
       "        -0.6777945 , -1.37440856, -1.13311681, -0.61663887,  0.40044122],\n",
       "       [-0.2579331 , -2.17304257, -0.59718032, -2.00826884, -0.99191278,\n",
       "        -0.83131122,  0.10974789,  0.22537336, -0.02112274,  0.49543876,\n",
       "         0.25690417,  1.09552524, -0.99511179,  0.56958905, -0.75679292,\n",
       "        -0.68460042, -0.86002876,  0.44077563, -1.06433395, -0.47258108],\n",
       "       [ 1.17741713,  0.06689428, -1.23148979, -0.322707  , -0.91962987,\n",
       "        -0.40306361, -0.72742478, -0.01388008, -2.1000329 , -0.17160467,\n",
       "        -1.6506377 ,  0.3925144 , -1.12657501, -0.43467417,  0.99253067,\n",
       "        -1.68093722, -0.73507162,  1.04678474, -1.26309562,  1.04575172],\n",
       "       [ 0.91106463,  0.20691028, -0.62469026, -1.02992438, -1.77181761,\n",
       "        -0.06114812, -1.02137043, -0.15970143,  0.97501046, -1.79236646,\n",
       "         1.48273461,  0.61100501,  1.14165503, -0.27643231, -1.0610937 ,\n",
       "         0.12429378,  0.0947193 ,  0.08966307,  0.72534654,  0.37269356]])"
      ]
     },
     "execution_count": 29,
     "metadata": {},
     "output_type": "execute_result"
    }
   ],
   "source": [
    "stock_change.T"
   ]
  },
  {
   "cell_type": "markdown",
   "metadata": {},
   "source": [
    "## 类型的修改及数据的本地化\n",
    "\n",
    "### 4.1 ndarray.astype(type)\n",
    "\n",
    "**只返回**修改了类型之后的数组，不修改原数组"
   ]
  },
  {
   "cell_type": "code",
   "execution_count": 31,
   "metadata": {},
   "outputs": [
    {
     "data": {
      "text/plain": [
       "array([[ 0,  0,  1,  0],\n",
       "       [ 0, -2,  0,  0],\n",
       "       [ 0,  0, -1,  0],\n",
       "       [ 0, -2,  0, -1],\n",
       "       [ 0,  0,  0, -1],\n",
       "       [ 0,  0,  0,  0],\n",
       "       [ 0,  0,  0, -1],\n",
       "       [ 1,  0,  0,  0],\n",
       "       [-1,  0, -2,  0],\n",
       "       [ 0,  0,  0, -1],\n",
       "       [ 0,  0, -1,  1],\n",
       "       [-1,  1,  0,  0],\n",
       "       [ 1,  0, -1,  1],\n",
       "       [ 0,  0,  0,  0],\n",
       "       [ 1,  0,  0, -1],\n",
       "       [ 0,  0, -1,  0],\n",
       "       [-1,  0,  0,  0],\n",
       "       [-1,  0,  1,  0],\n",
       "       [ 0, -1, -1,  0],\n",
       "       [ 0,  0,  1,  0]], dtype=int32)"
      ]
     },
     "execution_count": 31,
     "metadata": {},
     "output_type": "execute_result"
    }
   ],
   "source": [
    "stock_change.astype(np.int32)"
   ]
  },
  {
   "cell_type": "code",
   "execution_count": 33,
   "metadata": {},
   "outputs": [
    {
     "data": {
      "text/plain": [
       "array([[ 0.94392597, -0.2579331 ,  1.17741713,  0.91106463],\n",
       "       [-0.22480532, -2.17304257,  0.06689428,  0.20691028],\n",
       "       [-0.03596233, -0.59718032, -1.23148979, -0.62469026],\n",
       "       [ 0.58676196, -2.00826884, -0.322707  , -1.02992438],\n",
       "       [ 0.30472397, -0.99191278, -0.91962987, -1.77181761],\n",
       "       [-0.59629722, -0.83131122, -0.40306361, -0.06114812],\n",
       "       [ 0.85658245,  0.10974789, -0.72742478, -1.02137043],\n",
       "       [ 1.13683401,  0.22537336, -0.01388008, -0.15970143],\n",
       "       [-1.25188294, -0.02112274, -2.1000329 ,  0.97501046],\n",
       "       [ 0.23612974,  0.49543876, -0.17160467, -1.79236646],\n",
       "       [-0.09484012,  0.25690417, -1.6506377 ,  1.48273461],\n",
       "       [-1.61905086,  1.09552524,  0.3925144 ,  0.61100501],\n",
       "       [ 1.56002534, -0.99511179, -1.12657501,  1.14165503],\n",
       "       [-0.80840794,  0.56958905, -0.43467417, -0.27643231],\n",
       "       [ 1.22430361, -0.75679292,  0.99253067, -1.0610937 ],\n",
       "       [-0.6777945 , -0.68460042, -1.68093722,  0.12429378],\n",
       "       [-1.37440856, -0.86002876, -0.73507162,  0.0947193 ],\n",
       "       [-1.13311681,  0.44077563,  1.04678474,  0.08966307],\n",
       "       [-0.61663887, -1.06433395, -1.26309562,  0.72534654],\n",
       "       [ 0.40044122, -0.47258108,  1.04575172,  0.37269356]])"
      ]
     },
     "execution_count": 33,
     "metadata": {},
     "output_type": "execute_result"
    }
   ],
   "source": [
    "stock_change"
   ]
  },
  {
   "cell_type": "markdown",
   "metadata": {},
   "source": [
    "### 4.2 ndarray.tostring([order])或者ndarray.tobytes([order])\n",
    "\n",
    "构造包含数组中原始数据字节的Python字节"
   ]
  },
  {
   "cell_type": "code",
   "execution_count": 35,
   "metadata": {},
   "outputs": [
    {
     "name": "stderr",
     "output_type": "stream",
     "text": [
      "/var/folders/8w/gbcdx24135zfcng_1h_r02jw0000gn/T/ipykernel_3174/3113304482.py:3: DeprecationWarning: tostring() is deprecated. Use tobytes() instead.\n",
      "  arr.tostring()\n"
     ]
    },
    {
     "data": {
      "text/plain": [
       "b'\\x01\\x00\\x00\\x00\\x00\\x00\\x00\\x00\\x02\\x00\\x00\\x00\\x00\\x00\\x00\\x00\\x03\\x00\\x00\\x00\\x00\\x00\\x00\\x00\\x04\\x00\\x00\\x00\\x00\\x00\\x00\\x00\\x05\\x00\\x00\\x00\\x00\\x00\\x00\\x00\\x06\\x00\\x00\\x00\\x00\\x00\\x00\\x00\\x0c\\x00\\x00\\x00\\x00\\x00\\x00\\x00\\x03\\x00\\x00\\x00\\x00\\x00\\x00\\x00\"\\x00\\x00\\x00\\x00\\x00\\x00\\x00\\x05\\x00\\x00\\x00\\x00\\x00\\x00\\x00\\x06\\x00\\x00\\x00\\x00\\x00\\x00\\x00\\x07\\x00\\x00\\x00\\x00\\x00\\x00\\x00'"
      ]
     },
     "execution_count": 35,
     "metadata": {},
     "output_type": "execute_result"
    }
   ],
   "source": [
    "arr = np.array([[[1, 2, 3], [4, 5, 6]], [[12, 3, 34], [5, 6, 7]]])\n",
    "\n",
    "arr.tostring()"
   ]
  },
  {
   "cell_type": "code",
   "execution_count": 37,
   "metadata": {},
   "outputs": [
    {
     "data": {
      "text/plain": [
       "array([[[ 1,  2,  3],\n",
       "        [ 4,  5,  6]],\n",
       "\n",
       "       [[12,  3, 34],\n",
       "        [ 5,  6,  7]]])"
      ]
     },
     "execution_count": 37,
     "metadata": {},
     "output_type": "execute_result"
    }
   ],
   "source": [
    "arr"
   ]
  },
  {
   "cell_type": "code",
   "execution_count": 38,
   "metadata": {},
   "outputs": [
    {
     "data": {
      "text/plain": [
       "b'\\x01\\x00\\x00\\x00\\x00\\x00\\x00\\x00\\x02\\x00\\x00\\x00\\x00\\x00\\x00\\x00\\x03\\x00\\x00\\x00\\x00\\x00\\x00\\x00\\x04\\x00\\x00\\x00\\x00\\x00\\x00\\x00\\x05\\x00\\x00\\x00\\x00\\x00\\x00\\x00\\x06\\x00\\x00\\x00\\x00\\x00\\x00\\x00\\x0c\\x00\\x00\\x00\\x00\\x00\\x00\\x00\\x03\\x00\\x00\\x00\\x00\\x00\\x00\\x00\"\\x00\\x00\\x00\\x00\\x00\\x00\\x00\\x05\\x00\\x00\\x00\\x00\\x00\\x00\\x00\\x06\\x00\\x00\\x00\\x00\\x00\\x00\\x00\\x07\\x00\\x00\\x00\\x00\\x00\\x00\\x00'"
      ]
     },
     "execution_count": 38,
     "metadata": {},
     "output_type": "execute_result"
    }
   ],
   "source": [
    "arr.tobytes()"
   ]
  },
  {
   "cell_type": "markdown",
   "metadata": {},
   "source": [
    "\n",
    "\n",
    "### 数组的去重\n",
    "\n",
    "- 利用 Numpy 提供的方法进行直接去重"
   ]
  },
  {
   "cell_type": "code",
   "execution_count": 40,
   "metadata": {},
   "outputs": [
    {
     "data": {
      "text/plain": [
       "array([1, 2, 3, 4, 5, 6])"
      ]
     },
     "execution_count": 40,
     "metadata": {},
     "output_type": "execute_result"
    }
   ],
   "source": [
    "temp = np.array([[1, 2, 3, 4],[3, 4, 5, 6]])\n",
    "\n",
    "np.unique(temp)"
   ]
  },
  {
   "cell_type": "code",
   "execution_count": 42,
   "metadata": {},
   "outputs": [
    {
     "data": {
      "text/plain": [
       "{1, 2, 3, 4, 5, 6}"
      ]
     },
     "execution_count": 42,
     "metadata": {},
     "output_type": "execute_result"
    }
   ],
   "source": [
    "set(temp.flatten())"
   ]
  },
  {
   "cell_type": "markdown",
   "metadata": {},
   "source": [
    "\n",
    "\n",
    "## ndarray运算\n",
    "\n",
    "学习目标\n",
    "\n",
    "- 应用数组的通用判断函数\n",
    "\n",
    "- 应用np.where实现数组的三元运算\n"
   ]
  },
  {
   "cell_type": "markdown",
   "metadata": {},
   "source": [
    "### 逻辑运算"
   ]
  },
  {
   "cell_type": "code",
   "execution_count": 47,
   "metadata": {},
   "outputs": [],
   "source": [
    "import numpy as np\n",
    "\n",
    "# 生成 10 名同学，5 门课的成绩。从 30 分到 100 分之间\n",
    "source = np.random.randint(30, 100, (10, 5))\n",
    "\n",
    "# 取出最后4名同学的成绩，用于逻辑判断\n",
    "test_source = source[6: , :]"
   ]
  },
  {
   "cell_type": "code",
   "execution_count": 49,
   "metadata": {},
   "outputs": [
    {
     "data": {
      "text/plain": [
       "array([[35, 79, 38, 85, 54],\n",
       "       [33, 57, 59, 45, 31],\n",
       "       [41, 62, 32, 59, 85],\n",
       "       [45, 45, 66, 74, 81]])"
      ]
     },
     "execution_count": 49,
     "metadata": {},
     "output_type": "execute_result"
    }
   ],
   "source": [
    "test_source"
   ]
  },
  {
   "cell_type": "code",
   "execution_count": 50,
   "metadata": {},
   "outputs": [
    {
     "data": {
      "text/plain": [
       "array([[False,  True, False,  True, False],\n",
       "       [False, False, False, False, False],\n",
       "       [False,  True, False, False,  True],\n",
       "       [False, False,  True,  True,  True]])"
      ]
     },
     "execution_count": 50,
     "metadata": {},
     "output_type": "execute_result"
    }
   ],
   "source": [
    "# 逻辑判断, 如果成绩大于60就标记为 True 否则为 False\n",
    "test_source > 60"
   ]
  },
  {
   "cell_type": "code",
   "execution_count": 51,
   "metadata": {},
   "outputs": [
    {
     "data": {
      "text/plain": [
       "array([[35,  1, 38,  1, 54],\n",
       "       [33, 57, 59, 45, 31],\n",
       "       [41,  1, 32, 59,  1],\n",
       "       [45, 45,  1,  1,  1]])"
      ]
     },
     "execution_count": 51,
     "metadata": {},
     "output_type": "execute_result"
    }
   ],
   "source": [
    "# BOOL赋值, 将满足条件的设置为指定的值-布尔索引\n",
    "test_source[test_source > 60] = 1\n",
    "test_source"
   ]
  },
  {
   "cell_type": "markdown",
   "metadata": {},
   "source": [
    "### 通用判断函数"
   ]
  },
  {
   "cell_type": "code",
   "execution_count": 56,
   "metadata": {},
   "outputs": [
    {
     "data": {
      "text/plain": [
       "False"
      ]
     },
     "execution_count": 56,
     "metadata": {},
     "output_type": "execute_result"
    }
   ],
   "source": [
    "# 判断前两名同学的成绩是否全及格\n",
    "np.all(source[0:2, :] > 60)"
   ]
  },
  {
   "cell_type": "code",
   "execution_count": 59,
   "metadata": {},
   "outputs": [
    {
     "data": {
      "text/plain": [
       "True"
      ]
     },
     "execution_count": 59,
     "metadata": {},
     "output_type": "execute_result"
    }
   ],
   "source": [
    "# 判断前两名同学的成绩[0:2, :]是否有大于 90 分的\n",
    "np.any(source[0:2, :] > 90)"
   ]
  },
  {
   "cell_type": "markdown",
   "metadata": {},
   "source": [
    "### 三元运算符np.where() 及 复合逻辑 np.logical_and/or\n",
    "\n",
    "- `np.where(布尔逻辑运算, 布尔值为True设置的值, 布尔值为False设置的值)` **返回**新的数组"
   ]
  },
  {
   "cell_type": "code",
   "execution_count": 63,
   "metadata": {},
   "outputs": [
    {
     "data": {
      "text/plain": [
       "array([[1, 1, 0],\n",
       "       [0, 1, 0],\n",
       "       [0, 0, 1],\n",
       "       [0, 1, 0]])"
      ]
     },
     "execution_count": 63,
     "metadata": {},
     "output_type": "execute_result"
    }
   ],
   "source": [
    "# 通过使用np.where能够进行更加复杂的运算\n",
    "# 判断前 4 名学生，前 3 门课程中，成绩中大于 60 的置为 1，否则为 0\n",
    "\n",
    "temp = source[:4, :3]\n",
    "np.where(temp > 60, 1, 0)"
   ]
  },
  {
   "cell_type": "markdown",
   "metadata": {},
   "source": [
    "复合逻辑需要结合 `np.logical_and`、 `np.logical_or` 、`np.logical_not` 使用\n",
    "- `np.logical_and/or/not(布尔表达式1, 布尔表达式2, )`"
   ]
  },
  {
   "cell_type": "code",
   "execution_count": 66,
   "metadata": {},
   "outputs": [
    {
     "data": {
      "text/plain": [
       "array([[1, 1, 1],\n",
       "       [1, 1, 1],\n",
       "       [1, 1, 1],\n",
       "       [1, 1, 1]])"
      ]
     },
     "execution_count": 66,
     "metadata": {},
     "output_type": "execute_result"
    }
   ],
   "source": [
    "# 判断前 4 名学生，前 3 门课程中，成绩中大于 60【且】小于 90 的换为 1，否则为 0\n",
    "np.where(np.logical_and(temp > 60, temp < 90), 1, 0)\n",
    "\n",
    "# 判断前 4 名学生，前 3 门课程中，成绩中大于 60【或】小于 90 的换为 1，否则为 0\n",
    "np.where(np.logical_or(temp > 60, temp < 90), 1, 0)"
   ]
  },
  {
   "cell_type": "markdown",
   "metadata": {},
   "source": [
    "### 统计指标\n",
    "\n",
    "获取数组的最小值、最大值、平均值、中位数等，可以使用:\n",
    "\n",
    "- `Numpy.函数名(ndarry, axis=按哪一坐标轴)` 如果不指明具体按哪个 axis，那么就是整个数组\n",
    "\n",
    "- `ndarry.方法名(axis=按哪一坐标轴)` 如果不指明具体按哪个 axis，那么就是整个数组"
   ]
  },
  {
   "cell_type": "code",
   "execution_count": 68,
   "metadata": {},
   "outputs": [
    {
     "data": {
      "text/plain": [
       "array([[ 0.94392597, -0.2579331 ,  1.17741713,  0.91106463],\n",
       "       [-0.22480532, -2.17304257,  0.06689428,  0.20691028],\n",
       "       [-0.03596233, -0.59718032, -1.23148979, -0.62469026],\n",
       "       [ 0.58676196, -2.00826884, -0.322707  , -1.02992438]])"
      ]
     },
     "execution_count": 68,
     "metadata": {},
     "output_type": "execute_result"
    }
   ],
   "source": [
    "tmp = stock_change[:4]\n",
    "tmp"
   ]
  },
  {
   "cell_type": "code",
   "execution_count": 77,
   "metadata": {},
   "outputs": [
    {
     "data": {
      "text/plain": [
       "-2.17304256830656"
      ]
     },
     "execution_count": 77,
     "metadata": {},
     "output_type": "execute_result"
    }
   ],
   "source": [
    "# 用 Numpy.函数名(ndarry, axis=按哪一坐标轴) 的方式：\n",
    "np.min(tmp)\n",
    "\n",
    "np.min(tmp, axis=0)  # 这时 axis=0 代表按列，返回每一列的最小值\n",
    "\n",
    "np.median(tmp)"
   ]
  },
  {
   "cell_type": "code",
   "execution_count": 78,
   "metadata": {},
   "outputs": [
    {
     "data": {
      "text/plain": [
       "-2.17304256830656"
      ]
     },
     "execution_count": 78,
     "metadata": {},
     "output_type": "execute_result"
    }
   ],
   "source": [
    "# 用 `ndarry.方法名(axis=按哪一坐标轴)` 的方式：\n",
    "tmp.min()\n",
    "\n",
    "# tmp.min(axis=1)"
   ]
  },
  {
   "cell_type": "markdown",
   "metadata": {},
   "source": [
    "\n",
    "## 数组间运算\n",
    "\n",
    "### 数组与数的运算\n",
    "\n",
    "直接**用一个 ndarry 加减乘除 另一个数，会作用于 ndarry 中的每一个元素**"
   ]
  },
  {
   "cell_type": "code",
   "execution_count": 81,
   "metadata": {},
   "outputs": [
    {
     "data": {
      "text/plain": [
       "array([[0.5, 1. , 1.5, 1. , 0.5, 2. ],\n",
       "       [2.5, 3. , 0.5, 1. , 1.5, 0.5]])"
      ]
     },
     "execution_count": 81,
     "metadata": {},
     "output_type": "execute_result"
    }
   ],
   "source": [
    "arr = np.array([[1, 2, 3, 2, 1, 4], [5, 6, 1, 2, 3, 1]])\n",
    "\n",
    "arr + 1\n",
    "\n",
    "arr / 2"
   ]
  },
  {
   "cell_type": "markdown",
   "metadata": {},
   "source": [
    "### broadcast 广播机制\n",
    "\n",
    "**【重点】** 数组在进行矢量化运算（element-wise）时，**要求 ndarry 数组的形状是相等的**。当形状不相等的数组执行算术运算的时候，就会出现广播机制，该机制会对数组进行扩展，使数组的 shape 属性值一样，这样，就可以进行矢量化运算了。\n",
    "\n",
    "\n",
    "\n",
    "**运算的数组之间满足以下任意的一个条件时才能进行运算：**\n",
    "\n",
    "- 对应维度的元素数量相同（维度等长）\n",
    "- 对应维度的元素数量有一个数组的是 1（shape）\n",
    "\n",
    "\n",
    "\n",
    "广播机制需要**扩展维度小的数组**，使得它与维度最大的数组的shape值相同，以便使用元素级函数或者运算符进行运算。"
   ]
  },
  {
   "cell_type": "code",
   "execution_count": 87,
   "metadata": {},
   "outputs": [
    {
     "data": {
      "text/plain": [
       "array([[2, 3, 4, 3, 2, 5],\n",
       "       [8, 9, 4, 5, 6, 4]])"
      ]
     },
     "execution_count": 87,
     "metadata": {},
     "output_type": "execute_result"
    }
   ],
   "source": [
    "arr1 = np.array([[1, 2, 3, 2, 1, 4], [5, 6, 1, 2, 3, 1]])  # (2, 6)\n",
    "arr1.shape\n",
    "\n",
    "arr2 = np.array([[1], [3]])  # (2, 1)\n",
    "arr2.shape\n",
    "\n",
    "arr1 + arr2  #  OK，满足广播机制，可以运算"
   ]
  },
  {
   "cell_type": "markdown",
   "metadata": {},
   "source": [
    "### 矩阵运算\n",
    "\n",
    "假设我们拥有学生的平均成绩和期末成绩，但学生的最终成绩是按照平时成绩和最终成绩加权得到的，平时成绩占 30%、期末成绩占 70%\n",
    "\n",
    "也就是说：\n",
    "\n",
    "最终成绩 = (平时成绩 * 0.3) + (最终成绩 * 0.7)\n",
    "\n",
    "我们可以使用矩阵运算的形式得到所需的结果：\n",
    "\n",
    "**【重点】注意矩阵乘法的含义和规则！**"
   ]
  },
  {
   "cell_type": "code",
   "execution_count": 94,
   "metadata": {},
   "outputs": [
    {
     "data": {
      "text/plain": [
       "array([[80, 86],\n",
       "       [82, 80],\n",
       "       [85, 78],\n",
       "       [90, 90],\n",
       "       [86, 82],\n",
       "       [82, 90],\n",
       "       [78, 80],\n",
       "       [92, 94]])"
      ]
     },
     "execution_count": 94,
     "metadata": {},
     "output_type": "execute_result"
    }
   ],
   "source": [
    "# 学生成绩\n",
    "mark_stu = np.array([[80, 86],\n",
    "[82, 80],\n",
    "[85, 78],\n",
    "[90, 90],\n",
    "[86, 82],\n",
    "[82, 90],\n",
    "[78, 80],\n",
    "[92, 94]])\n",
    "\n",
    "mark_stu"
   ]
  },
  {
   "cell_type": "code",
   "execution_count": 97,
   "metadata": {},
   "outputs": [
    {
     "data": {
      "text/plain": [
       "array([[0.3],\n",
       "       [0.7]])"
      ]
     },
     "execution_count": 97,
     "metadata": {},
     "output_type": "execute_result"
    }
   ],
   "source": [
    "# 权重\n",
    "weight = np.array([[0.3], [0.7]])\n",
    "\n",
    "weight"
   ]
  },
  {
   "cell_type": "code",
   "execution_count": 104,
   "metadata": {},
   "outputs": [],
   "source": [
    "# 转换为矩阵\n",
    "matrix_mark_stu = np.mat(mark_stu)\n",
    "matrix_weight = np.mat(weight)"
   ]
  },
  {
   "cell_type": "code",
   "execution_count": 105,
   "metadata": {},
   "outputs": [
    {
     "data": {
      "text/plain": [
       "matrix([[84.2],\n",
       "        [80.6],\n",
       "        [80.1],\n",
       "        [90. ],\n",
       "        [83.2],\n",
       "        [87.6],\n",
       "        [79.4],\n",
       "        [93.4]])"
      ]
     },
     "execution_count": 105,
     "metadata": {},
     "output_type": "execute_result"
    }
   ],
   "source": [
    "# 矩阵1 * 矩阵2\n",
    "matrix_mark_stu * matrix_weight"
   ]
  },
  {
   "cell_type": "code",
   "execution_count": 101,
   "metadata": {},
   "outputs": [
    {
     "data": {
      "text/plain": [
       "matrix([[84.2],\n",
       "        [80.6],\n",
       "        [80.1],\n",
       "        [90. ],\n",
       "        [83.2],\n",
       "        [87.6],\n",
       "        [79.4],\n",
       "        [93.4]])"
      ]
     },
     "execution_count": 101,
     "metadata": {},
     "output_type": "execute_result"
    }
   ],
   "source": [
    "# 矩阵乘法 `np.matmul(矩阵1, 矩阵2)`\n",
    "np.matmul(matrix_mark_stu, matrix_weight)"
   ]
  },
  {
   "cell_type": "code",
   "execution_count": 103,
   "metadata": {},
   "outputs": [
    {
     "data": {
      "text/plain": [
       "matrix([[84.2],\n",
       "        [80.6],\n",
       "        [80.1],\n",
       "        [90. ],\n",
       "        [83.2],\n",
       "        [87.6],\n",
       "        [79.4],\n",
       "        [93.4]])"
      ]
     },
     "execution_count": 103,
     "metadata": {},
     "output_type": "execute_result"
    }
   ],
   "source": [
    "# 矩阵乘法 `np.dot(矩阵1, 矩阵2)` \n",
    "np.dot(matrix_mark_stu, matrix_weight)"
   ]
  },
  {
   "cell_type": "code",
   "execution_count": 109,
   "metadata": {},
   "outputs": [
    {
     "data": {
      "text/plain": [
       "array([[84.2],\n",
       "       [80.6],\n",
       "       [80.1],\n",
       "       [90. ],\n",
       "       [83.2],\n",
       "       [87.6],\n",
       "       [79.4],\n",
       "       [93.4]])"
      ]
     },
     "execution_count": 109,
     "metadata": {},
     "output_type": "execute_result"
    }
   ],
   "source": [
    "# 如果是通过 ndarry 的方式直接相乘，是不可以的，因为 (8, 2) 和 (1, 2) 不符合广播机制！所以不能进行运算\n",
    "# 但是可以使用运算符 `@` 的进行相乘（矩阵相乘）！\n",
    "mark_stu @ weight"
   ]
  },
  {
   "cell_type": "markdown",
   "metadata": {},
   "source": [
    "### 合并、分割\n",
    "\n",
    "| 函数                                                       | 描述                            |\n",
    "| ---------------------------------------------------------- | ------------------------------- |\n",
    "| `Numpy.hstack(ndarry1, ndarry2 ...)`                       | 横向拼接                        |\n",
    "| `Numpy.vstack(ndarry1, ndarry2 ...)`                       | 竖向拼接                        |\n",
    "| `Numpy.concatenate((ndarry1, ndarry2 ...), axis=按哪个轴)` | 按指定的 int 类型的 axis 轴拼接 |\n",
    "\n"
   ]
  },
  {
   "cell_type": "code",
   "execution_count": 114,
   "metadata": {},
   "outputs": [
    {
     "data": {
      "text/plain": [
       "array([1, 2, 3, 4, 5, 6])"
      ]
     },
     "execution_count": 114,
     "metadata": {},
     "output_type": "execute_result"
    }
   ],
   "source": [
    "# `Numpy.hstack(ndarry1, ndarry2 ...)` \n",
    "# 注意参数的括号\n",
    "l = np.array((1, 2, 3))\n",
    "r = np.array((4, 5, 6))\n",
    "np.hstack((l, r))\n"
   ]
  },
  {
   "cell_type": "code",
   "execution_count": 115,
   "metadata": {},
   "outputs": [
    {
     "data": {
      "text/plain": [
       "array([[1, 4],\n",
       "       [2, 5],\n",
       "       [3, 6]])"
      ]
     },
     "execution_count": 115,
     "metadata": {},
     "output_type": "execute_result"
    }
   ],
   "source": [
    "l = np.array([[1], [2], [3]])\n",
    "r = np.array([[4], [5], [6]])\n",
    "np.hstack((l, r))"
   ]
  },
  {
   "cell_type": "code",
   "execution_count": 116,
   "metadata": {},
   "outputs": [
    {
     "data": {
      "text/plain": [
       "array([[1, 2, 3],\n",
       "       [4, 5, 6]])"
      ]
     },
     "execution_count": 116,
     "metadata": {},
     "output_type": "execute_result"
    }
   ],
   "source": [
    "# `Numpy.vstack(ndarry1, ndarry2 ...)` \n",
    "# 注意参数的括号\n",
    "l = np.array((1, 2, 3))\n",
    "r = np.array((4, 5, 6))\n",
    "np.vstack((l, r))"
   ]
  },
  {
   "cell_type": "code",
   "execution_count": 117,
   "metadata": {},
   "outputs": [
    {
     "data": {
      "text/plain": [
       "array([[1],\n",
       "       [2],\n",
       "       [3],\n",
       "       [4],\n",
       "       [5],\n",
       "       [6]])"
      ]
     },
     "execution_count": 117,
     "metadata": {},
     "output_type": "execute_result"
    }
   ],
   "source": [
    "l = np.array([[1], [2], [3]])\n",
    "r = np.array([[4], [5], [6]])\n",
    "np.vstack((l, r))"
   ]
  },
  {
   "cell_type": "code",
   "execution_count": 119,
   "metadata": {},
   "outputs": [
    {
     "data": {
      "text/plain": [
       "array([[1, 2],\n",
       "       [3, 4],\n",
       "       [5, 6]])"
      ]
     },
     "execution_count": 119,
     "metadata": {},
     "output_type": "execute_result"
    }
   ],
   "source": [
    "# `Numpy.concatenate((ndarry1, ndarry2 ...), axis=按哪个轴)`\n",
    "l = np.array([[1, 2], [3, 4]])\n",
    "r = np.array([[5, 6]])\n",
    "\n",
    "# 沿着 x 轴合并\n",
    "np.concatenate((l, r), axis=0)"
   ]
  },
  {
   "cell_type": "code",
   "execution_count": null,
   "metadata": {},
   "outputs": [],
   "source": [
    "# 沿着 y 轴合并\n",
    "np.concatenate((l, r.T), axis=0)"
   ]
  }
 ],
 "metadata": {
  "interpreter": {
   "hash": "aee8b7b246df8f9039afb4144a1f6fd8d2ca17a180786b69acc140d282b71a49"
  },
  "kernelspec": {
   "display_name": "Python 3.10.1 64-bit",
   "language": "python",
   "name": "python3"
  },
  "language_info": {
   "codemirror_mode": {
    "name": "ipython",
    "version": 3
   },
   "file_extension": ".py",
   "mimetype": "text/x-python",
   "name": "python",
   "nbconvert_exporter": "python",
   "pygments_lexer": "ipython3",
   "version": "3.10.1"
  },
  "orig_nbformat": 4
 },
 "nbformat": 4,
 "nbformat_minor": 2
}
