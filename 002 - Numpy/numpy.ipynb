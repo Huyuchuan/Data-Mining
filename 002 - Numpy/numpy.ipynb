{
 "cells": [
  {
   "cell_type": "markdown",
   "metadata": {},
   "source": [
    "# Numpy"
   ]
  },
  {
   "cell_type": "markdown",
   "metadata": {},
   "source": [
    "## 生成数组"
   ]
  },
  {
   "cell_type": "markdown",
   "metadata": {},
   "source": [
    "### 生成0和1的数组\n",
    "\n",
    "\n",
    "| 方法                                       | 描述                                                         |\n",
    "| ------------------------------------------ | ------------------------------------------------------------ |\n",
    "| **`np.ones(shape=形状, dtype=数据类型)`**  | `shape` 可以以列表或者元组的形式传入；`dtype` 可以指定数据类型 |\n",
    "| `np.ones_like(a=数组, dtype=数据类型)`     | `a` 可以是 ndarray，生成和 `a` **形状一样的新** `ndarray`    |\n",
    "| **`np.zeros(shape=形状, dtype=数据类型)`** |                                                              |\n",
    "| `np.zeros_like(a=数组, dtype=数据类型)`    |                                                              |\n",
    "\n",
    "\n"
   ]
  },
  {
   "cell_type": "code",
   "execution_count": 4,
   "metadata": {},
   "outputs": [
    {
     "data": {
      "text/plain": [
       "array([[0., 0., 0., 0., 0.]])"
      ]
     },
     "execution_count": 4,
     "metadata": {},
     "output_type": "execute_result"
    }
   ],
   "source": [
    "import numpy as np\n",
    "\n",
    "# 【重点】在生成是，参数中的 shape 可以是元组、也可以是列表！\n",
    "np.ones(shape=(3, 4), dtype=np.int32)\n",
    "\n",
    "np.zeros(shape=[1, 5])"
   ]
  },
  {
   "cell_type": "markdown",
   "metadata": {},
   "source": [
    "### 从现有数组中生成\n",
    "\n",
    "\n",
    "\n",
    "> **这里深拷贝和浅拷贝只有在传入的数组是 np.ndarray ，并且数据类型一致时才有效**。如果传入的是 Python 自带的 list[] 类型，则两者都是深拷贝！\n",
    "\n",
    "| 方法                                          | 描述                                           |\n",
    "| --------------------------------------------- | ---------------------------------------------- |\n",
    "| `np.array(object=现有数组, dtype=数据类型)`   | **【深拷贝】**返回跟参数中的数组一样的 ndarray |\n",
    "| `np.asarray(object=现有数组, dtype=数据类型)` | **【浅拷贝】**返回跟参数中的数组一样的 ndarray |\n",
    "\n"
   ]
  },
  {
   "cell_type": "code",
   "execution_count": 24,
   "metadata": {},
   "outputs": [
    {
     "name": "stdout",
     "output_type": "stream",
     "text": [
      "修改器后的 array1：\n",
      " [[0.000e+00 1.230e+02 0.000e+00 0.000e+00 0.000e+00 0.000e+00 0.000e+00\n",
      "  0.000e+00]\n",
      " [0.000e+00 0.000e+00 2.342e+03 0.000e+00 0.000e+00 0.000e+00 2.000e+00\n",
      "  0.000e+00]\n",
      " [0.000e+00 0.000e+00 0.000e+00 0.000e+00 0.000e+00 4.500e+01 0.000e+00\n",
      "  0.000e+00]\n",
      " [0.000e+00 0.000e+00 0.000e+00 0.000e+00 0.000e+00 0.000e+00 0.000e+00\n",
      "  0.000e+00]]\n",
      "修改器后的 array 2：\n",
      " [[0.000e+00 1.230e+02 0.000e+00 0.000e+00 0.000e+00 0.000e+00 0.000e+00\n",
      "  0.000e+00]\n",
      " [0.000e+00 0.000e+00 2.342e+03 0.000e+00 0.000e+00 0.000e+00 2.000e+00\n",
      "  0.000e+00]\n",
      " [0.000e+00 0.000e+00 0.000e+00 0.000e+00 0.000e+00 4.500e+01 0.000e+00\n",
      "  0.000e+00]\n",
      " [0.000e+00 0.000e+00 0.000e+00 0.000e+00 0.000e+00 0.000e+00 0.000e+00\n",
      "  0.000e+00]]\n"
     ]
    }
   ],
   "source": [
    "import numpy as np\n",
    "\n",
    "# 【重点】**这里深拷贝和浅拷贝只有在传入的数组是 np.ndarray ，并且数据类型一致时才有效**。如果传入的是 Python 自带的 list[] 类型，则两者都是深拷贝！\n",
    "# source_array = np.array([[0., 123., 0., 0., 0., 0., 0., 0.], [0., 0., 2342., 0., 0., 0., 2., 0.], [0., 0., 0., 0., 0., 45., 0., 0.], [0., 0., 0., 0., 0., 0., 0., 0.]])\n",
    "source_array = [[0., 123., 0., 0., 0., 0., 0., 0.], [0., 0., 2342., 0., 0., 0., 2., 0.], [0., 0., 0., 0., 0., 45., 0., 0.], [0., 0., 0., 0., 0., 0., 0., 0.]]\n",
    "\n",
    "# np.array() 是深拷贝\n",
    "array1 = np.array(source_array)\n",
    "\n",
    "# np.array() 是浅拷贝\n",
    "array2 = np.asarray(source_array)\n",
    "\n",
    "\n",
    "source_array[1][0] = 999\n",
    "print('修改器后的深拷贝 array1：\\n', array1)\n",
    "\n",
    "print('修改器后的浅拷贝 array 2：\\n', array2)"
   ]
  },
  {
   "cell_type": "markdown",
   "metadata": {},
   "source": [
    "### ndarray 的属性\n",
    "\n",
    "\n",
    "| 属性名字           | 属性解释                                                     |\n",
    "| ------------------ | ------------------------------------------------------------ |\n",
    "| `ndarray.shape`    | 返回数组维度的**元组**，元组中一个元素代表一个维度，如果只有一个维度则用 `(n, )` 表示 |\n",
    "| `ndarray.ndim`     | 返回数组维数                                                 |\n",
    "| `ndarray.size`     | 返回数组中的元素数量                                         |\n",
    "| `ndarray.itemsize` | 返回数组中一个元素的长度（字节）                             |\n",
    "| `ndarray.dtype`    | 数组元素的类型                                               |\n",
    "\n"
   ]
  },
  {
   "cell_type": "code",
   "execution_count": 37,
   "metadata": {},
   "outputs": [
    {
     "data": {
      "text/plain": [
       "dtype('float32')"
      ]
     },
     "execution_count": 37,
     "metadata": {},
     "output_type": "execute_result"
    }
   ],
   "source": [
    "test_array = np.array([[1, 2, 3],[4, 5, 6]], dtype=np.float32)\n",
    "\n",
    "# 返回数组维度的**元组**，元组中一个元素代表一个维度，如果只有一个维度则用 `(n, )` 表示\n",
    "test_array.shape  # 输出：(2, 3)\n",
    "\n",
    "# 返回数组维数\n",
    "test_array.ndim  # 输出：2\n",
    "\n",
    "# 返回数组中的元素数量\n",
    "test_array.size  # 输出：6\n",
    "\n",
    "# 返回数组中一个元素的长度（字节）\n",
    "test_array.itemsize  # 输出：4\n",
    "\n",
    "# 数组元素的类型\n",
    "test_array.dtype  # 输出：dtype('float32')"
   ]
  },
  {
   "cell_type": "code",
   "execution_count": null,
   "metadata": {},
   "outputs": [],
   "source": []
  }
 ],
 "metadata": {
  "interpreter": {
   "hash": "aee8b7b246df8f9039afb4144a1f6fd8d2ca17a180786b69acc140d282b71a49"
  },
  "kernelspec": {
   "display_name": "Python 3.10.1 64-bit",
   "language": "python",
   "name": "python3"
  },
  "language_info": {
   "codemirror_mode": {
    "name": "ipython",
    "version": 3
   },
   "file_extension": ".py",
   "mimetype": "text/x-python",
   "name": "python",
   "nbconvert_exporter": "python",
   "pygments_lexer": "ipython3",
   "version": "3.10.1"
  },
  "orig_nbformat": 4
 },
 "nbformat": 4,
 "nbformat_minor": 2
}
