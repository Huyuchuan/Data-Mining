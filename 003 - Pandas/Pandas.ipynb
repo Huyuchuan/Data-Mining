{
 "cells": [
  {
   "cell_type": "markdown",
   "metadata": {},
   "source": [
    "# Pandas\n",
    "\n",
    "## DataFrame\n",
    "\n",
    "### DataFrame 结构"
   ]
  },
  {
   "cell_type": "code",
   "execution_count": 2,
   "metadata": {},
   "outputs": [],
   "source": [
    "import numpy as np\n",
    "import pandas as pd"
   ]
  },
  {
   "cell_type": "code",
   "execution_count": 3,
   "metadata": {},
   "outputs": [],
   "source": [
    "# 创建一个符合正态分布的 10 支股票 5 天内的涨跌幅数据\n",
    "stock_change = np.random.normal(0, 1, (10, 5))"
   ]
  },
  {
   "cell_type": "code",
   "execution_count": 5,
   "metadata": {},
   "outputs": [
    {
     "data": {
      "text/plain": [
       "array([[-0.46182992,  0.12019474, -1.15437614, -0.09053703,  0.17455913],\n",
       "       [-0.20905998,  0.68518892,  1.1026634 ,  2.52573148, -1.73700414],\n",
       "       [-2.30617559,  0.08013553,  0.28369232, -0.46207883,  0.71115346],\n",
       "       [ 1.19196403,  0.24622009,  0.95572014,  0.1843441 ,  0.34857969],\n",
       "       [-0.80852024,  0.2570339 , -0.22534932,  2.34169   , -0.94620692],\n",
       "       [ 1.55849342,  1.57916403,  0.05742434, -1.14350354, -1.42569821],\n",
       "       [ 1.04755591,  0.0580752 ,  0.14500976,  0.8815285 , -1.32614855],\n",
       "       [-1.99741675,  0.58771186, -0.77941358, -0.620167  , -0.22863551],\n",
       "       [ 0.53292115,  0.07138332,  0.15406709,  0.90393226, -1.79411439],\n",
       "       [-0.43231582,  0.90681722,  0.07309412, -0.19639308,  0.45440386]])"
      ]
     },
     "execution_count": 5,
     "metadata": {},
     "output_type": "execute_result"
    }
   ],
   "source": [
    "stock_change"
   ]
  },
  {
   "cell_type": "code",
   "execution_count": 7,
   "metadata": {},
   "outputs": [
    {
     "data": {
      "text/html": [
       "<div>\n",
       "<style scoped>\n",
       "    .dataframe tbody tr th:only-of-type {\n",
       "        vertical-align: middle;\n",
       "    }\n",
       "\n",
       "    .dataframe tbody tr th {\n",
       "        vertical-align: top;\n",
       "    }\n",
       "\n",
       "    .dataframe thead th {\n",
       "        text-align: right;\n",
       "    }\n",
       "</style>\n",
       "<table border=\"1\" class=\"dataframe\">\n",
       "  <thead>\n",
       "    <tr style=\"text-align: right;\">\n",
       "      <th></th>\n",
       "      <th>0</th>\n",
       "      <th>1</th>\n",
       "      <th>2</th>\n",
       "      <th>3</th>\n",
       "      <th>4</th>\n",
       "    </tr>\n",
       "  </thead>\n",
       "  <tbody>\n",
       "    <tr>\n",
       "      <th>0</th>\n",
       "      <td>-0.461830</td>\n",
       "      <td>0.120195</td>\n",
       "      <td>-1.154376</td>\n",
       "      <td>-0.090537</td>\n",
       "      <td>0.174559</td>\n",
       "    </tr>\n",
       "    <tr>\n",
       "      <th>1</th>\n",
       "      <td>-0.209060</td>\n",
       "      <td>0.685189</td>\n",
       "      <td>1.102663</td>\n",
       "      <td>2.525731</td>\n",
       "      <td>-1.737004</td>\n",
       "    </tr>\n",
       "    <tr>\n",
       "      <th>2</th>\n",
       "      <td>-2.306176</td>\n",
       "      <td>0.080136</td>\n",
       "      <td>0.283692</td>\n",
       "      <td>-0.462079</td>\n",
       "      <td>0.711153</td>\n",
       "    </tr>\n",
       "    <tr>\n",
       "      <th>3</th>\n",
       "      <td>1.191964</td>\n",
       "      <td>0.246220</td>\n",
       "      <td>0.955720</td>\n",
       "      <td>0.184344</td>\n",
       "      <td>0.348580</td>\n",
       "    </tr>\n",
       "    <tr>\n",
       "      <th>4</th>\n",
       "      <td>-0.808520</td>\n",
       "      <td>0.257034</td>\n",
       "      <td>-0.225349</td>\n",
       "      <td>2.341690</td>\n",
       "      <td>-0.946207</td>\n",
       "    </tr>\n",
       "    <tr>\n",
       "      <th>5</th>\n",
       "      <td>1.558493</td>\n",
       "      <td>1.579164</td>\n",
       "      <td>0.057424</td>\n",
       "      <td>-1.143504</td>\n",
       "      <td>-1.425698</td>\n",
       "    </tr>\n",
       "    <tr>\n",
       "      <th>6</th>\n",
       "      <td>1.047556</td>\n",
       "      <td>0.058075</td>\n",
       "      <td>0.145010</td>\n",
       "      <td>0.881528</td>\n",
       "      <td>-1.326149</td>\n",
       "    </tr>\n",
       "    <tr>\n",
       "      <th>7</th>\n",
       "      <td>-1.997417</td>\n",
       "      <td>0.587712</td>\n",
       "      <td>-0.779414</td>\n",
       "      <td>-0.620167</td>\n",
       "      <td>-0.228636</td>\n",
       "    </tr>\n",
       "    <tr>\n",
       "      <th>8</th>\n",
       "      <td>0.532921</td>\n",
       "      <td>0.071383</td>\n",
       "      <td>0.154067</td>\n",
       "      <td>0.903932</td>\n",
       "      <td>-1.794114</td>\n",
       "    </tr>\n",
       "    <tr>\n",
       "      <th>9</th>\n",
       "      <td>-0.432316</td>\n",
       "      <td>0.906817</td>\n",
       "      <td>0.073094</td>\n",
       "      <td>-0.196393</td>\n",
       "      <td>0.454404</td>\n",
       "    </tr>\n",
       "  </tbody>\n",
       "</table>\n",
       "</div>"
      ],
      "text/plain": [
       "          0         1         2         3         4\n",
       "0 -0.461830  0.120195 -1.154376 -0.090537  0.174559\n",
       "1 -0.209060  0.685189  1.102663  2.525731 -1.737004\n",
       "2 -2.306176  0.080136  0.283692 -0.462079  0.711153\n",
       "3  1.191964  0.246220  0.955720  0.184344  0.348580\n",
       "4 -0.808520  0.257034 -0.225349  2.341690 -0.946207\n",
       "5  1.558493  1.579164  0.057424 -1.143504 -1.425698\n",
       "6  1.047556  0.058075  0.145010  0.881528 -1.326149\n",
       "7 -1.997417  0.587712 -0.779414 -0.620167 -0.228636\n",
       "8  0.532921  0.071383  0.154067  0.903932 -1.794114\n",
       "9 -0.432316  0.906817  0.073094 -0.196393  0.454404"
      ]
     },
     "execution_count": 7,
     "metadata": {},
     "output_type": "execute_result"
    }
   ],
   "source": [
    "# 用 pandas 创建\n",
    "pd.DataFrame(stock_change)"
   ]
  },
  {
   "cell_type": "code",
   "execution_count": 16,
   "metadata": {},
   "outputs": [
    {
     "data": {
      "text/plain": [
       "['股票0', '股票1', '股票2', '股票3', '股票4', '股票5', '股票6', '股票7', '股票8', '股票9']"
      ]
     },
     "execution_count": 16,
     "metadata": {},
     "output_type": "execute_result"
    }
   ],
   "source": [
    "# 添加行（index）索引\n",
    "label_index = ['股票{}'.format(i) for i in range(10)]\n",
    "label_index"
   ]
  },
  {
   "cell_type": "code",
   "execution_count": 17,
   "metadata": {},
   "outputs": [
    {
     "data": {
      "text/html": [
       "<div>\n",
       "<style scoped>\n",
       "    .dataframe tbody tr th:only-of-type {\n",
       "        vertical-align: middle;\n",
       "    }\n",
       "\n",
       "    .dataframe tbody tr th {\n",
       "        vertical-align: top;\n",
       "    }\n",
       "\n",
       "    .dataframe thead th {\n",
       "        text-align: right;\n",
       "    }\n",
       "</style>\n",
       "<table border=\"1\" class=\"dataframe\">\n",
       "  <thead>\n",
       "    <tr style=\"text-align: right;\">\n",
       "      <th></th>\n",
       "      <th>0</th>\n",
       "      <th>1</th>\n",
       "      <th>2</th>\n",
       "      <th>3</th>\n",
       "      <th>4</th>\n",
       "    </tr>\n",
       "  </thead>\n",
       "  <tbody>\n",
       "    <tr>\n",
       "      <th>股票0</th>\n",
       "      <td>-0.461830</td>\n",
       "      <td>0.120195</td>\n",
       "      <td>-1.154376</td>\n",
       "      <td>-0.090537</td>\n",
       "      <td>0.174559</td>\n",
       "    </tr>\n",
       "    <tr>\n",
       "      <th>股票1</th>\n",
       "      <td>-0.209060</td>\n",
       "      <td>0.685189</td>\n",
       "      <td>1.102663</td>\n",
       "      <td>2.525731</td>\n",
       "      <td>-1.737004</td>\n",
       "    </tr>\n",
       "    <tr>\n",
       "      <th>股票2</th>\n",
       "      <td>-2.306176</td>\n",
       "      <td>0.080136</td>\n",
       "      <td>0.283692</td>\n",
       "      <td>-0.462079</td>\n",
       "      <td>0.711153</td>\n",
       "    </tr>\n",
       "    <tr>\n",
       "      <th>股票3</th>\n",
       "      <td>1.191964</td>\n",
       "      <td>0.246220</td>\n",
       "      <td>0.955720</td>\n",
       "      <td>0.184344</td>\n",
       "      <td>0.348580</td>\n",
       "    </tr>\n",
       "    <tr>\n",
       "      <th>股票4</th>\n",
       "      <td>-0.808520</td>\n",
       "      <td>0.257034</td>\n",
       "      <td>-0.225349</td>\n",
       "      <td>2.341690</td>\n",
       "      <td>-0.946207</td>\n",
       "    </tr>\n",
       "    <tr>\n",
       "      <th>股票5</th>\n",
       "      <td>1.558493</td>\n",
       "      <td>1.579164</td>\n",
       "      <td>0.057424</td>\n",
       "      <td>-1.143504</td>\n",
       "      <td>-1.425698</td>\n",
       "    </tr>\n",
       "    <tr>\n",
       "      <th>股票6</th>\n",
       "      <td>1.047556</td>\n",
       "      <td>0.058075</td>\n",
       "      <td>0.145010</td>\n",
       "      <td>0.881528</td>\n",
       "      <td>-1.326149</td>\n",
       "    </tr>\n",
       "    <tr>\n",
       "      <th>股票7</th>\n",
       "      <td>-1.997417</td>\n",
       "      <td>0.587712</td>\n",
       "      <td>-0.779414</td>\n",
       "      <td>-0.620167</td>\n",
       "      <td>-0.228636</td>\n",
       "    </tr>\n",
       "    <tr>\n",
       "      <th>股票8</th>\n",
       "      <td>0.532921</td>\n",
       "      <td>0.071383</td>\n",
       "      <td>0.154067</td>\n",
       "      <td>0.903932</td>\n",
       "      <td>-1.794114</td>\n",
       "    </tr>\n",
       "    <tr>\n",
       "      <th>股票9</th>\n",
       "      <td>-0.432316</td>\n",
       "      <td>0.906817</td>\n",
       "      <td>0.073094</td>\n",
       "      <td>-0.196393</td>\n",
       "      <td>0.454404</td>\n",
       "    </tr>\n",
       "  </tbody>\n",
       "</table>\n",
       "</div>"
      ],
      "text/plain": [
       "            0         1         2         3         4\n",
       "股票0 -0.461830  0.120195 -1.154376 -0.090537  0.174559\n",
       "股票1 -0.209060  0.685189  1.102663  2.525731 -1.737004\n",
       "股票2 -2.306176  0.080136  0.283692 -0.462079  0.711153\n",
       "股票3  1.191964  0.246220  0.955720  0.184344  0.348580\n",
       "股票4 -0.808520  0.257034 -0.225349  2.341690 -0.946207\n",
       "股票5  1.558493  1.579164  0.057424 -1.143504 -1.425698\n",
       "股票6  1.047556  0.058075  0.145010  0.881528 -1.326149\n",
       "股票7 -1.997417  0.587712 -0.779414 -0.620167 -0.228636\n",
       "股票8  0.532921  0.071383  0.154067  0.903932 -1.794114\n",
       "股票9 -0.432316  0.906817  0.073094 -0.196393  0.454404"
      ]
     },
     "execution_count": 17,
     "metadata": {},
     "output_type": "execute_result"
    }
   ],
   "source": [
    "pd.DataFrame(stock_change, index=label_index)"
   ]
  },
  {
   "cell_type": "code",
   "execution_count": 21,
   "metadata": {},
   "outputs": [],
   "source": [
    "# 添加列（columns）索引\n",
    "date = pd.date_range(start='20220101', periods=5, freq='B')"
   ]
  },
  {
   "cell_type": "code",
   "execution_count": 22,
   "metadata": {},
   "outputs": [
    {
     "data": {
      "text/plain": [
       "DatetimeIndex(['2022-01-03', '2022-01-04', '2022-01-05', '2022-01-06',\n",
       "               '2022-01-07'],\n",
       "              dtype='datetime64[ns]', freq='B')"
      ]
     },
     "execution_count": 22,
     "metadata": {},
     "output_type": "execute_result"
    }
   ],
   "source": [
    "date"
   ]
  },
  {
   "cell_type": "code",
   "execution_count": 25,
   "metadata": {},
   "outputs": [
    {
     "data": {
      "text/html": [
       "<div>\n",
       "<style scoped>\n",
       "    .dataframe tbody tr th:only-of-type {\n",
       "        vertical-align: middle;\n",
       "    }\n",
       "\n",
       "    .dataframe tbody tr th {\n",
       "        vertical-align: top;\n",
       "    }\n",
       "\n",
       "    .dataframe thead th {\n",
       "        text-align: right;\n",
       "    }\n",
       "</style>\n",
       "<table border=\"1\" class=\"dataframe\">\n",
       "  <thead>\n",
       "    <tr style=\"text-align: right;\">\n",
       "      <th></th>\n",
       "      <th>2022-01-03</th>\n",
       "      <th>2022-01-04</th>\n",
       "      <th>2022-01-05</th>\n",
       "      <th>2022-01-06</th>\n",
       "      <th>2022-01-07</th>\n",
       "    </tr>\n",
       "  </thead>\n",
       "  <tbody>\n",
       "    <tr>\n",
       "      <th>股票0</th>\n",
       "      <td>-0.461830</td>\n",
       "      <td>0.120195</td>\n",
       "      <td>-1.154376</td>\n",
       "      <td>-0.090537</td>\n",
       "      <td>0.174559</td>\n",
       "    </tr>\n",
       "    <tr>\n",
       "      <th>股票1</th>\n",
       "      <td>-0.209060</td>\n",
       "      <td>0.685189</td>\n",
       "      <td>1.102663</td>\n",
       "      <td>2.525731</td>\n",
       "      <td>-1.737004</td>\n",
       "    </tr>\n",
       "    <tr>\n",
       "      <th>股票2</th>\n",
       "      <td>-2.306176</td>\n",
       "      <td>0.080136</td>\n",
       "      <td>0.283692</td>\n",
       "      <td>-0.462079</td>\n",
       "      <td>0.711153</td>\n",
       "    </tr>\n",
       "    <tr>\n",
       "      <th>股票3</th>\n",
       "      <td>1.191964</td>\n",
       "      <td>0.246220</td>\n",
       "      <td>0.955720</td>\n",
       "      <td>0.184344</td>\n",
       "      <td>0.348580</td>\n",
       "    </tr>\n",
       "    <tr>\n",
       "      <th>股票4</th>\n",
       "      <td>-0.808520</td>\n",
       "      <td>0.257034</td>\n",
       "      <td>-0.225349</td>\n",
       "      <td>2.341690</td>\n",
       "      <td>-0.946207</td>\n",
       "    </tr>\n",
       "    <tr>\n",
       "      <th>股票5</th>\n",
       "      <td>1.558493</td>\n",
       "      <td>1.579164</td>\n",
       "      <td>0.057424</td>\n",
       "      <td>-1.143504</td>\n",
       "      <td>-1.425698</td>\n",
       "    </tr>\n",
       "    <tr>\n",
       "      <th>股票6</th>\n",
       "      <td>1.047556</td>\n",
       "      <td>0.058075</td>\n",
       "      <td>0.145010</td>\n",
       "      <td>0.881528</td>\n",
       "      <td>-1.326149</td>\n",
       "    </tr>\n",
       "    <tr>\n",
       "      <th>股票7</th>\n",
       "      <td>-1.997417</td>\n",
       "      <td>0.587712</td>\n",
       "      <td>-0.779414</td>\n",
       "      <td>-0.620167</td>\n",
       "      <td>-0.228636</td>\n",
       "    </tr>\n",
       "    <tr>\n",
       "      <th>股票8</th>\n",
       "      <td>0.532921</td>\n",
       "      <td>0.071383</td>\n",
       "      <td>0.154067</td>\n",
       "      <td>0.903932</td>\n",
       "      <td>-1.794114</td>\n",
       "    </tr>\n",
       "    <tr>\n",
       "      <th>股票9</th>\n",
       "      <td>-0.432316</td>\n",
       "      <td>0.906817</td>\n",
       "      <td>0.073094</td>\n",
       "      <td>-0.196393</td>\n",
       "      <td>0.454404</td>\n",
       "    </tr>\n",
       "  </tbody>\n",
       "</table>\n",
       "</div>"
      ],
      "text/plain": [
       "     2022-01-03  2022-01-04  2022-01-05  2022-01-06  2022-01-07\n",
       "股票0   -0.461830    0.120195   -1.154376   -0.090537    0.174559\n",
       "股票1   -0.209060    0.685189    1.102663    2.525731   -1.737004\n",
       "股票2   -2.306176    0.080136    0.283692   -0.462079    0.711153\n",
       "股票3    1.191964    0.246220    0.955720    0.184344    0.348580\n",
       "股票4   -0.808520    0.257034   -0.225349    2.341690   -0.946207\n",
       "股票5    1.558493    1.579164    0.057424   -1.143504   -1.425698\n",
       "股票6    1.047556    0.058075    0.145010    0.881528   -1.326149\n",
       "股票7   -1.997417    0.587712   -0.779414   -0.620167   -0.228636\n",
       "股票8    0.532921    0.071383    0.154067    0.903932   -1.794114\n",
       "股票9   -0.432316    0.906817    0.073094   -0.196393    0.454404"
      ]
     },
     "execution_count": 25,
     "metadata": {},
     "output_type": "execute_result"
    }
   ],
   "source": [
    "stock_change = pd.DataFrame(stock_change, index=label_index, columns=date)\n",
    "stock_change"
   ]
  },
  {
   "cell_type": "markdown",
   "metadata": {},
   "source": [
    "### DataFrame 属性"
   ]
  },
  {
   "cell_type": "code",
   "execution_count": 27,
   "metadata": {},
   "outputs": [
    {
     "data": {
      "text/plain": [
       "(10, 5)"
      ]
     },
     "execution_count": 27,
     "metadata": {},
     "output_type": "execute_result"
    }
   ],
   "source": [
    "# 形状\n",
    "stock_change.shape  # (10, 5)"
   ]
  },
  {
   "cell_type": "code",
   "execution_count": 29,
   "metadata": {},
   "outputs": [
    {
     "data": {
      "text/plain": [
       "Index(['股票0', '股票1', '股票2', '股票3', '股票4', '股票5', '股票6', '股票7', '股票8', '股票9'], dtype='object')"
      ]
     },
     "execution_count": 29,
     "metadata": {},
     "output_type": "execute_result"
    }
   ],
   "source": [
    "# 行索引\n",
    "stock_change.index  # Index(['股票0', '股票1', '股票2', '股票3', '股票4', '股票5', '股票6', '股票7', '股票8', '股票9'], dtype='object')"
   ]
  },
  {
   "cell_type": "code",
   "execution_count": 30,
   "metadata": {},
   "outputs": [
    {
     "data": {
      "text/plain": [
       "DatetimeIndex(['2022-01-03', '2022-01-04', '2022-01-05', '2022-01-06',\n",
       "               '2022-01-07'],\n",
       "              dtype='datetime64[ns]', freq='B')"
      ]
     },
     "execution_count": 30,
     "metadata": {},
     "output_type": "execute_result"
    }
   ],
   "source": [
    "# 列索引\n",
    "stock_change.columns  "
   ]
  },
  {
   "cell_type": "code",
   "execution_count": 31,
   "metadata": {},
   "outputs": [
    {
     "data": {
      "text/plain": [
       "array([[-0.46182992,  0.12019474, -1.15437614, -0.09053703,  0.17455913],\n",
       "       [-0.20905998,  0.68518892,  1.1026634 ,  2.52573148, -1.73700414],\n",
       "       [-2.30617559,  0.08013553,  0.28369232, -0.46207883,  0.71115346],\n",
       "       [ 1.19196403,  0.24622009,  0.95572014,  0.1843441 ,  0.34857969],\n",
       "       [-0.80852024,  0.2570339 , -0.22534932,  2.34169   , -0.94620692],\n",
       "       [ 1.55849342,  1.57916403,  0.05742434, -1.14350354, -1.42569821],\n",
       "       [ 1.04755591,  0.0580752 ,  0.14500976,  0.8815285 , -1.32614855],\n",
       "       [-1.99741675,  0.58771186, -0.77941358, -0.620167  , -0.22863551],\n",
       "       [ 0.53292115,  0.07138332,  0.15406709,  0.90393226, -1.79411439],\n",
       "       [-0.43231582,  0.90681722,  0.07309412, -0.19639308,  0.45440386]])"
      ]
     },
     "execution_count": 31,
     "metadata": {},
     "output_type": "execute_result"
    }
   ],
   "source": [
    "# 去除行列索引（ndarry）\n",
    "stock_change.values"
   ]
  },
  {
   "cell_type": "code",
   "execution_count": 37,
   "metadata": {},
   "outputs": [
    {
     "data": {
      "text/html": [
       "<div>\n",
       "<style scoped>\n",
       "    .dataframe tbody tr th:only-of-type {\n",
       "        vertical-align: middle;\n",
       "    }\n",
       "\n",
       "    .dataframe tbody tr th {\n",
       "        vertical-align: top;\n",
       "    }\n",
       "\n",
       "    .dataframe thead th {\n",
       "        text-align: right;\n",
       "    }\n",
       "</style>\n",
       "<table border=\"1\" class=\"dataframe\">\n",
       "  <thead>\n",
       "    <tr style=\"text-align: right;\">\n",
       "      <th></th>\n",
       "      <th>股票0</th>\n",
       "      <th>股票1</th>\n",
       "      <th>股票2</th>\n",
       "      <th>股票3</th>\n",
       "      <th>股票4</th>\n",
       "      <th>股票5</th>\n",
       "      <th>股票6</th>\n",
       "      <th>股票7</th>\n",
       "      <th>股票8</th>\n",
       "      <th>股票9</th>\n",
       "    </tr>\n",
       "  </thead>\n",
       "  <tbody>\n",
       "    <tr>\n",
       "      <th>2022-01-03</th>\n",
       "      <td>-0.461830</td>\n",
       "      <td>-0.209060</td>\n",
       "      <td>-2.306176</td>\n",
       "      <td>1.191964</td>\n",
       "      <td>-0.808520</td>\n",
       "      <td>1.558493</td>\n",
       "      <td>1.047556</td>\n",
       "      <td>-1.997417</td>\n",
       "      <td>0.532921</td>\n",
       "      <td>-0.432316</td>\n",
       "    </tr>\n",
       "    <tr>\n",
       "      <th>2022-01-04</th>\n",
       "      <td>0.120195</td>\n",
       "      <td>0.685189</td>\n",
       "      <td>0.080136</td>\n",
       "      <td>0.246220</td>\n",
       "      <td>0.257034</td>\n",
       "      <td>1.579164</td>\n",
       "      <td>0.058075</td>\n",
       "      <td>0.587712</td>\n",
       "      <td>0.071383</td>\n",
       "      <td>0.906817</td>\n",
       "    </tr>\n",
       "    <tr>\n",
       "      <th>2022-01-05</th>\n",
       "      <td>-1.154376</td>\n",
       "      <td>1.102663</td>\n",
       "      <td>0.283692</td>\n",
       "      <td>0.955720</td>\n",
       "      <td>-0.225349</td>\n",
       "      <td>0.057424</td>\n",
       "      <td>0.145010</td>\n",
       "      <td>-0.779414</td>\n",
       "      <td>0.154067</td>\n",
       "      <td>0.073094</td>\n",
       "    </tr>\n",
       "    <tr>\n",
       "      <th>2022-01-06</th>\n",
       "      <td>-0.090537</td>\n",
       "      <td>2.525731</td>\n",
       "      <td>-0.462079</td>\n",
       "      <td>0.184344</td>\n",
       "      <td>2.341690</td>\n",
       "      <td>-1.143504</td>\n",
       "      <td>0.881528</td>\n",
       "      <td>-0.620167</td>\n",
       "      <td>0.903932</td>\n",
       "      <td>-0.196393</td>\n",
       "    </tr>\n",
       "    <tr>\n",
       "      <th>2022-01-07</th>\n",
       "      <td>0.174559</td>\n",
       "      <td>-1.737004</td>\n",
       "      <td>0.711153</td>\n",
       "      <td>0.348580</td>\n",
       "      <td>-0.946207</td>\n",
       "      <td>-1.425698</td>\n",
       "      <td>-1.326149</td>\n",
       "      <td>-0.228636</td>\n",
       "      <td>-1.794114</td>\n",
       "      <td>0.454404</td>\n",
       "    </tr>\n",
       "  </tbody>\n",
       "</table>\n",
       "</div>"
      ],
      "text/plain": [
       "                 股票0       股票1       股票2       股票3       股票4       股票5  \\\n",
       "2022-01-03 -0.461830 -0.209060 -2.306176  1.191964 -0.808520  1.558493   \n",
       "2022-01-04  0.120195  0.685189  0.080136  0.246220  0.257034  1.579164   \n",
       "2022-01-05 -1.154376  1.102663  0.283692  0.955720 -0.225349  0.057424   \n",
       "2022-01-06 -0.090537  2.525731 -0.462079  0.184344  2.341690 -1.143504   \n",
       "2022-01-07  0.174559 -1.737004  0.711153  0.348580 -0.946207 -1.425698   \n",
       "\n",
       "                 股票6       股票7       股票8       股票9  \n",
       "2022-01-03  1.047556 -1.997417  0.532921 -0.432316  \n",
       "2022-01-04  0.058075  0.587712  0.071383  0.906817  \n",
       "2022-01-05  0.145010 -0.779414  0.154067  0.073094  \n",
       "2022-01-06  0.881528 -0.620167  0.903932 -0.196393  \n",
       "2022-01-07 -1.326149 -0.228636 -1.794114  0.454404  "
      ]
     },
     "execution_count": 37,
     "metadata": {},
     "output_type": "execute_result"
    }
   ],
   "source": [
    "# 转置\n",
    "stock_change.T"
   ]
  },
  {
   "cell_type": "markdown",
   "metadata": {},
   "source": [
    "### DataFrame 的方法"
   ]
  },
  {
   "cell_type": "code",
   "execution_count": 34,
   "metadata": {},
   "outputs": [
    {
     "data": {
      "text/html": [
       "<div>\n",
       "<style scoped>\n",
       "    .dataframe tbody tr th:only-of-type {\n",
       "        vertical-align: middle;\n",
       "    }\n",
       "\n",
       "    .dataframe tbody tr th {\n",
       "        vertical-align: top;\n",
       "    }\n",
       "\n",
       "    .dataframe thead th {\n",
       "        text-align: right;\n",
       "    }\n",
       "</style>\n",
       "<table border=\"1\" class=\"dataframe\">\n",
       "  <thead>\n",
       "    <tr style=\"text-align: right;\">\n",
       "      <th></th>\n",
       "      <th>2022-01-03</th>\n",
       "      <th>2022-01-04</th>\n",
       "      <th>2022-01-05</th>\n",
       "      <th>2022-01-06</th>\n",
       "      <th>2022-01-07</th>\n",
       "    </tr>\n",
       "  </thead>\n",
       "  <tbody>\n",
       "    <tr>\n",
       "      <th>股票0</th>\n",
       "      <td>-0.461830</td>\n",
       "      <td>0.120195</td>\n",
       "      <td>-1.154376</td>\n",
       "      <td>-0.090537</td>\n",
       "      <td>0.174559</td>\n",
       "    </tr>\n",
       "    <tr>\n",
       "      <th>股票1</th>\n",
       "      <td>-0.209060</td>\n",
       "      <td>0.685189</td>\n",
       "      <td>1.102663</td>\n",
       "      <td>2.525731</td>\n",
       "      <td>-1.737004</td>\n",
       "    </tr>\n",
       "    <tr>\n",
       "      <th>股票2</th>\n",
       "      <td>-2.306176</td>\n",
       "      <td>0.080136</td>\n",
       "      <td>0.283692</td>\n",
       "      <td>-0.462079</td>\n",
       "      <td>0.711153</td>\n",
       "    </tr>\n",
       "  </tbody>\n",
       "</table>\n",
       "</div>"
      ],
      "text/plain": [
       "     2022-01-03  2022-01-04  2022-01-05  2022-01-06  2022-01-07\n",
       "股票0   -0.461830    0.120195   -1.154376   -0.090537    0.174559\n",
       "股票1   -0.209060    0.685189    1.102663    2.525731   -1.737004\n",
       "股票2   -2.306176    0.080136    0.283692   -0.462079    0.711153"
      ]
     },
     "execution_count": 34,
     "metadata": {},
     "output_type": "execute_result"
    }
   ],
   "source": [
    "# 返回前 n 行数据，参数中如果不指定，默认是 5 行\n",
    "stock_change.head(3)"
   ]
  },
  {
   "cell_type": "code",
   "execution_count": 36,
   "metadata": {},
   "outputs": [
    {
     "data": {
      "text/html": [
       "<div>\n",
       "<style scoped>\n",
       "    .dataframe tbody tr th:only-of-type {\n",
       "        vertical-align: middle;\n",
       "    }\n",
       "\n",
       "    .dataframe tbody tr th {\n",
       "        vertical-align: top;\n",
       "    }\n",
       "\n",
       "    .dataframe thead th {\n",
       "        text-align: right;\n",
       "    }\n",
       "</style>\n",
       "<table border=\"1\" class=\"dataframe\">\n",
       "  <thead>\n",
       "    <tr style=\"text-align: right;\">\n",
       "      <th></th>\n",
       "      <th>2022-01-03</th>\n",
       "      <th>2022-01-04</th>\n",
       "      <th>2022-01-05</th>\n",
       "      <th>2022-01-06</th>\n",
       "      <th>2022-01-07</th>\n",
       "    </tr>\n",
       "  </thead>\n",
       "  <tbody>\n",
       "    <tr>\n",
       "      <th>股票8</th>\n",
       "      <td>0.532921</td>\n",
       "      <td>0.071383</td>\n",
       "      <td>0.154067</td>\n",
       "      <td>0.903932</td>\n",
       "      <td>-1.794114</td>\n",
       "    </tr>\n",
       "    <tr>\n",
       "      <th>股票9</th>\n",
       "      <td>-0.432316</td>\n",
       "      <td>0.906817</td>\n",
       "      <td>0.073094</td>\n",
       "      <td>-0.196393</td>\n",
       "      <td>0.454404</td>\n",
       "    </tr>\n",
       "  </tbody>\n",
       "</table>\n",
       "</div>"
      ],
      "text/plain": [
       "     2022-01-03  2022-01-04  2022-01-05  2022-01-06  2022-01-07\n",
       "股票8    0.532921    0.071383    0.154067    0.903932   -1.794114\n",
       "股票9   -0.432316    0.906817    0.073094   -0.196393    0.454404"
      ]
     },
     "execution_count": 36,
     "metadata": {},
     "output_type": "execute_result"
    }
   ],
   "source": [
    "# 返回后 n 行数据，参数中如果不指定，默认是 5 行\n",
    "stock_change.tail(2)"
   ]
  },
  {
   "cell_type": "code",
   "execution_count": null,
   "metadata": {},
   "outputs": [],
   "source": []
  }
 ],
 "metadata": {
  "interpreter": {
   "hash": "aee8b7b246df8f9039afb4144a1f6fd8d2ca17a180786b69acc140d282b71a49"
  },
  "kernelspec": {
   "display_name": "Python 3.10.1 64-bit",
   "language": "python",
   "name": "python3"
  },
  "language_info": {
   "codemirror_mode": {
    "name": "ipython",
    "version": 3
   },
   "file_extension": ".py",
   "mimetype": "text/x-python",
   "name": "python",
   "nbconvert_exporter": "python",
   "pygments_lexer": "ipython3",
   "version": "3.10.1"
  },
  "orig_nbformat": 4
 },
 "nbformat": 4,
 "nbformat_minor": 2
}
