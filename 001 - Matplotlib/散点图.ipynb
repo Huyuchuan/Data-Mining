{
 "cells": [
  {
   "cell_type": "markdown",
   "metadata": {},
   "source": [
    "# 散点图\n",
    "\n",
    "## 简单绘制"
   ]
  },
  {
   "cell_type": "code",
   "execution_count": null,
   "metadata": {},
   "outputs": [],
   "source": [
    "from matplotlib import pyplot as plt\n",
    "\n",
    "\"\"\"\n",
    "探究房屋面积和房屋价格的关系\n",
    "x - 房屋面积\n",
    "y - 房屋价格\n",
    "\"\"\"\n",
    "# 准备数据\n",
    "x = [225.98, 247.07, 253.14, 457.85, 241.58, 301.01, 20.67, 288.64, 163.56, 120.06, 207.83, 342.75, 147.9 , 53.06, 224.72, 29.51,\n",
    "21.61, 483.21, 245.25, 399.25, 343.35]\n",
    "\n",
    "y = [196.63, 203.88, 210.75, 372.74, 202.41, 247.61, 24.9 , 239.34, 140.32, 104.15, 176.84, 288.23, 128.79, 49.64, 191.74, 33.1 ,\n",
    "30.74, 400.02, 205.35, 330.64, 283.45]\n",
    "\n",
    "# 新建画布\n",
    "plt.figure(figsize=(20, 8), dpi=100)\n",
    "\n",
    "# 绘制散点图\n",
    "plt.scatter(x, y)\n",
    "\n",
    "# 展示图像\n",
    "plt.show()"
   ]
  }
 ],
 "metadata": {
  "interpreter": {
   "hash": "aee8b7b246df8f9039afb4144a1f6fd8d2ca17a180786b69acc140d282b71a49"
  },
  "kernelspec": {
   "display_name": "Python 3.10.1 64-bit",
   "language": "python",
   "name": "python3"
  },
  "language_info": {
   "name": "python",
   "version": "3.10.1"
  },
  "orig_nbformat": 4
 },
 "nbformat": 4,
 "nbformat_minor": 2
}
